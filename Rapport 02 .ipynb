{
 "cells": [
  {
   "cell_type": "markdown",
   "metadata": {},
   "source": [
    "Dans ce notebook nous allons étudier et commenter les courbes d'apprentissage des différents algorithmes évolutionnaires mono et multi-critères.\n"
   ]
  },
  {
   "cell_type": "code",
   "execution_count": 1,
   "metadata": {},
   "outputs": [
    {
     "name": "stdout",
     "output_type": "stream",
     "text": [
      "Début du test de l'extracteur des propriétés de l'essaim sur le chemin :  /home/mohamed/PycharmProjects/Projet_Kilobots\n",
      "/home/mohamed/PycharmProjects/Projet_Kilobots\n"
     ]
    }
   ],
   "source": [
    "from rendering_nsga import *"
   ]
  },
  {
   "cell_type": "code",
   "execution_count": null,
   "metadata": {},
   "outputs": [
    {
     "name": "stdout",
     "output_type": "stream",
     "text": [
      "c =  [ 0.5 10. ]\n",
      " Rectanglitude  \t  Shape_Index  \tTuring_Spot\n",
      "----------------\t---------------\t-----------\n",
      "avg    \tmax     \tavg    \tmax    \tavg \tmax   \n",
      "0.18989\t0.394442\t7.30624\t18.7006\t7.75\t22    \n"
     ]
    },
    {
     "name": "stderr",
     "output_type": "stream",
     "text": [
      "/home/mohamed/.local/lib/python3.7/site-packages/deap/tools/crossover.py:338: RuntimeWarning: invalid value encountered in double_scalars\n",
      "  beta_q = (1.0 / (2.0 - rand * alpha)) ** (1.0 / (eta + 1))\n",
      "/home/mohamed/.local/lib/python3.7/site-packages/deap/tools/mutation.py:90: RuntimeWarning: invalid value encountered in double_scalars\n",
      "  delta_q = 1.0 - val ** mut_pow\n"
     ]
    },
    {
     "name": "stdout",
     "output_type": "stream",
     "text": [
      "0.17154\t0.394442\t6.92508\t17.206 \t9.16667\t22 \n",
      "0.199441\t0.409462\t8.16454\t17.7342\t11.8333\t22 \n"
     ]
    }
   ],
   "source": [
    "w = S.extract_genotype()\n",
    "S.Swarm.controller.rez_params()\n",
    "NSGA([fitnessTuringSpot,fitnessRectanglitude, fitnessShapeIndex],(+5,+1,-10),('D_u', 'D_v'),sigma=2)\n",
    "S.Swarm.controller.withVisiblite(True)\n",
    "S.Swarm.controller.withTime(-1)\n",
    "S.Swarm.controller.withNombre(200)\n",
    "S.Swarm.controller.withTopology(\"pile\")\n",
    "S.Swarm.controller.run()"
   ]
  },
  {
   "cell_type": "code",
   "execution_count": null,
   "metadata": {},
   "outputs": [],
   "source": [
    "cmaES([fitnessTuringSpot, fitnessRectanglitude] , (+2,+1) , 5 , 10,('A_VAL', 'B_VAL', 'C_VAL', 'D_u', 'D_v'), 0.1,10)"
   ]
  },
  {
   "cell_type": "code",
   "execution_count": null,
   "metadata": {},
   "outputs": [],
   "source": []
  }
 ],
 "metadata": {
  "kernelspec": {
   "display_name": "Python 3",
   "language": "python",
   "name": "python3"
  },
  "language_info": {
   "codemirror_mode": {
    "name": "ipython",
    "version": 3
   },
   "file_extension": ".py",
   "mimetype": "text/x-python",
   "name": "python",
   "nbconvert_exporter": "python",
   "pygments_lexer": "ipython3",
   "version": "3.7.4"
  }
 },
 "nbformat": 4,
 "nbformat_minor": 2
}
